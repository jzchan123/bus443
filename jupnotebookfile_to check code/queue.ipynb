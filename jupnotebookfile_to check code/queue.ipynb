{
 "cells": [
  {
   "cell_type": "code",
   "execution_count": 5,
   "metadata": {},
   "outputs": [
    {
     "name": "stdout",
     "output_type": "stream",
     "text": [
      "['helloworld', 'helloword2']\n"
     ]
    }
   ],
   "source": [
    "class Queue:\n",
    "    def __init__(self):\n",
    "        self.queue = []\n",
    "        self.size = 0\n",
    "    def Addtoqueue(self, entry):\n",
    "        self.size += 1\n",
    "        return self.queue.append(entry)\n",
    "    def Popfromqueue(self):\n",
    "        self.size -=1\n",
    "        return self.queue.pop()\n",
    "    def Sizeofqueue(self):\n",
    "        return self.size\n",
    "    \n",
    "new = Queue()\n",
    "new.Addtoqueue('helloworld')\n",
    "new.Addtoqueue('helloword2')\n",
    "new.Addtoqueue('helloworld3')\n",
    "new.Popfromqueue()\n",
    "new.Sizeofqueue()\n",
    "print(new.queue)"
   ]
  },
  {
   "cell_type": "code",
   "execution_count": null,
   "metadata": {},
   "outputs": [],
   "source": []
  },
  {
   "cell_type": "code",
   "execution_count": null,
   "metadata": {},
   "outputs": [],
   "source": []
  },
  {
   "cell_type": "code",
   "execution_count": null,
   "metadata": {},
   "outputs": [],
   "source": []
  },
  {
   "cell_type": "code",
   "execution_count": null,
   "metadata": {},
   "outputs": [],
   "source": []
  }
 ],
 "metadata": {
  "kernelspec": {
   "display_name": "Python 3",
   "language": "python",
   "name": "python3"
  },
  "language_info": {
   "codemirror_mode": {
    "name": "ipython",
    "version": 3
   },
   "file_extension": ".py",
   "mimetype": "text/x-python",
   "name": "python",
   "nbconvert_exporter": "python",
   "pygments_lexer": "ipython3",
   "version": "3.7.4"
  }
 },
 "nbformat": 4,
 "nbformat_minor": 2
}
