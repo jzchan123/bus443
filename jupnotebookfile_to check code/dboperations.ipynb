{
 "cells": [
  {
   "cell_type": "code",
   "execution_count": 1,
   "metadata": {},
   "outputs": [
    {
     "name": "stdout",
     "output_type": "stream",
     "text": [
      "Requirement already satisfied: mysql-connector-python-rf in c:\\users\\jeffrey\\anaconda3\\lib\\site-packages (2.2.2)\n"
     ]
    },
    {
     "data": {
      "text/plain": [
       "0"
      ]
     },
     "execution_count": 1,
     "metadata": {},
     "output_type": "execute_result"
    }
   ],
   "source": [
    "from pip._internal import main\n",
    "main(['install','mysql-connector-python-rf'])\n"
   ]
  },
  {
   "cell_type": "code",
   "execution_count": null,
   "metadata": {},
   "outputs": [],
   "source": []
  },
  {
   "cell_type": "code",
   "execution_count": 3,
   "metadata": {},
   "outputs": [
    {
     "name": "stdout",
     "output_type": "stream",
     "text": [
      "[('jeffrey', 'chan', 'bus443', 'b410'), ('jeffrey', 'chan', 'bus443', 'b410')]\n"
     ]
    }
   ],
   "source": [
    "try:\n",
    "    import mysql.connector as mysql\n",
    "    db = mysql.connect(host=\"localhost\", user=\"secondjeffrey\", passwd=\"abc123\")\n",
    "    cursor = db.cursor()\n",
    "    firstname = 'jeffrey'\n",
    "    lastname = 'chan'\n",
    "    coursename = 'bus443'\n",
    "    courselocation = 'b410'\n",
    "    cursor.execute(\"insert into jeffrey_schema.faculty (firstname, lastname, coursename, courselocation) values (%s, %s, %s, %s)\",(firstname, lastname, coursename, courselocation)) \n",
    "    cursor.execute(\"SELECT * FROM jeffrey_schema.faculty\")\n",
    "    data = cursor.fetchall()\n",
    "    print(data)\n",
    "    #open command and write data into that file & close said file. \n",
    "    #closing the file & ending the connection. \n",
    "finally:\n",
    "    cursor.close()\n",
    "    db.close()"
   ]
  },
  {
   "cell_type": "code",
   "execution_count": null,
   "metadata": {},
   "outputs": [],
   "source": []
  },
  {
   "cell_type": "code",
   "execution_count": null,
   "metadata": {},
   "outputs": [],
   "source": []
  }
 ],
 "metadata": {
  "kernelspec": {
   "display_name": "Python 3",
   "language": "python",
   "name": "python3"
  },
  "language_info": {
   "codemirror_mode": {
    "name": "ipython",
    "version": 3
   },
   "file_extension": ".py",
   "mimetype": "text/x-python",
   "name": "python",
   "nbconvert_exporter": "python",
   "pygments_lexer": "ipython3",
   "version": "3.7.4"
  }
 },
 "nbformat": 4,
 "nbformat_minor": 2
}
